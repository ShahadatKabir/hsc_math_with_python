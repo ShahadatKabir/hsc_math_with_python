{
  "nbformat": 4,
  "nbformat_minor": 0,
  "metadata": {
    "colab": {
      "provenance": [],
      "authorship_tag": "ABX9TyM7d9btaU9X6nmqwg2UOAB+",
      "include_colab_link": true
    },
    "kernelspec": {
      "name": "python3",
      "display_name": "Python 3"
    },
    "language_info": {
      "name": "python"
    }
  },
  "cells": [
    {
      "cell_type": "markdown",
      "metadata": {
        "id": "view-in-github",
        "colab_type": "text"
      },
      "source": [
        "<a href=\"https://colab.research.google.com/github/ShahadatKabir/hsc_math_with_python/blob/master/Matrix_basics.ipynb\" target=\"_parent\"><img src=\"https://colab.research.google.com/assets/colab-badge.svg\" alt=\"Open In Colab\"/></a>"
      ]
    },
    {
      "cell_type": "code",
      "execution_count": null,
      "metadata": {
        "colab": {
          "base_uri": "https://localhost:8080/"
        },
        "id": "JxAnKZsTU9Tk",
        "outputId": "f459d434-99b5-48dc-8600-654c54fe489f"
      },
      "outputs": [
        {
          "output_type": "stream",
          "name": "stdout",
          "text": [
            " total_element = 9\n",
            "dimension = (3, 3)\n",
            "row = 3 and column =3 \n",
            "(array([1, 1, 2]), array([0, 1, 2]))\n",
            "row index 1 column index 0\n"
          ]
        }
      ],
      "source": [
        "import numpy as np\n",
        "Matrix= np.array([[0,1,2],\n",
        "                  [4,4,5],\n",
        "                  [6,7,4]])\n",
        "print(f\" total_element = {Matrix.size}\")\n",
        "print(f\"dimension = {Matrix.shape}\")\n",
        "\n",
        "print(f\"row = {Matrix.shape[0]} and column ={Matrix.shape[1]} \")\n",
        "Entry_postion= np.where(Matrix ==4)\n",
        "print(Entry_postion)\n",
        "\n",
        "print(f\"row index {Entry_postion[0][0]} column index {Entry_postion[1][0]}\")"
      ]
    },
    {
      "cell_type": "code",
      "source": [
        "Matrix1=np.array([[2,3,4],\n",
        "                  [5,6,7],\n",
        "                  [8,5,6]])\n",
        "print(f\"totla_element={Matrix1.size}\")\n",
        "\n",
        "print(f\"dimension ={Matrix1.shape}\")\n",
        "\n",
        "print(f\"row ={Matrix1.shape[0]} and column ={Matrix1.shape[1]}\")\n",
        "\n",
        "Entry_position1 =np.where(Matrix1==8)\n",
        "\n",
        "print(Entry_position1)\n",
        "\n",
        "print(f\"row index {Entry_position1[0][0]} column index {Entry_position1 [1][0]}\")\n"
      ],
      "metadata": {
        "colab": {
          "base_uri": "https://localhost:8080/"
        },
        "id": "5MUp_B1FLGDK",
        "outputId": "0d6cba77-939d-4a80-d96a-56a4774d8336"
      },
      "execution_count": null,
      "outputs": [
        {
          "output_type": "stream",
          "name": "stdout",
          "text": [
            "totla_element=9\n",
            "dimension =(3, 3)\n",
            "row =3 and column =3\n",
            "(array([2]), array([0]))\n",
            "row index 2 column index 0\n"
          ]
        }
      ]
    },
    {
      "cell_type": "code",
      "source": [
        "Matrix2=np.array([[6,3,5],\n",
        "                  [7,8,9],\n",
        "                  [10,11,13]])\n",
        "\n",
        "print(f\"total_element={Matrix2.size}\")\n",
        "\n",
        "print(f\"dimension ={Matrix2.shape}\")\n",
        "\n",
        "print(f\"row ={Matrix2.shape[0]} and column ={Matrix2.shape[1]}\")\n",
        "\n",
        "Entry_position2 =np.where(Matrix2==13)\n",
        "\n",
        "print(Entry_position2)\n",
        "\n",
        "print(f\"row index {Entry_position2[0][0]} column index {Entry_position2 [1][0]}\")"
      ],
      "metadata": {
        "colab": {
          "base_uri": "https://localhost:8080/"
        },
        "id": "KlUEppirMXTZ",
        "outputId": "b14e92ee-11ea-4c4b-a4c5-1766e8c21108"
      },
      "execution_count": null,
      "outputs": [
        {
          "output_type": "stream",
          "name": "stdout",
          "text": [
            "total_element=9\n",
            "dimension =(3, 3)\n",
            "row =3 and column =3\n",
            "(array([2]), array([2]))\n",
            "row index 2 column index 2\n"
          ]
        }
      ]
    },
    {
      "cell_type": "code",
      "source": [
        "Matrix3=np.array([[3,4,5],\n",
        "                  [77,44,55],\n",
        "                  [99,44,55]])\n",
        "print(f\"totlat_element={Matrix3.size}\")\n",
        "\n",
        "print(f\"Dimension3={Matrix3.shape}\")\n",
        "\n",
        "print(f\"row ={Matrix3.shape[0]} and column ={Matrix3.shape[1]} \")\n",
        "\n",
        "Find_position =np.where(Matrix3==44)\n",
        "\n",
        "print(Find_position)\n",
        "\n",
        "print(f\"row index {Find_position[0][0]} and column index {Find_position[1][0]}\")"
      ],
      "metadata": {
        "colab": {
          "base_uri": "https://localhost:8080/"
        },
        "id": "H8NGrH51N13u",
        "outputId": "f26665e4-8337-4a24-eef5-28bca8d01ae4"
      },
      "execution_count": null,
      "outputs": [
        {
          "output_type": "stream",
          "name": "stdout",
          "text": [
            "totlat_element=9\n",
            "Dimension3=(3, 3)\n",
            "row =3 and column =3 \n",
            "(array([1, 2]), array([1, 1]))\n",
            "row index 1 and column index 1\n"
          ]
        }
      ]
    }
  ]
}